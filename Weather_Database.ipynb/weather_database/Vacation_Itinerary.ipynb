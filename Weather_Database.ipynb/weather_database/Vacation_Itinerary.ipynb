{
 "cells": [
  {
   "cell_type": "code",
   "execution_count": null,
   "metadata": {},
   "outputs": [],
   "source": [
    "# Import the dependencies.\n",
    "import pandas as pd\n",
    "import matplotlib.pyplot as plt\n",
    "import numpy as np\n",
    "# Use the citipy module to determine city based on latitude and longitude.\n",
    "from citipy import citipy\n",
    "# Import the datetime module from the datetime library.\n",
    "from datetime import datetime\n",
    "# Import the requests library.\n",
    "import requests\n",
    "# gmaps \n",
    "import gmaps\n",
    "# Import the time module.\n",
    "import time\n",
    "# Import linear regression from the SciPy stats module.\n",
    "from scipy.stats import linregress"
   ]
  },
  {
   "cell_type": "code",
   "execution_count": null,
   "metadata": {},
   "outputs": [],
   "source": [
    "# Import the API key.\n",
    "from config import weather_api_key\n",
    "# Import API key\n",
    "from config import g_key"
   ]
  },
  {
   "cell_type": "code",
   "execution_count": null,
   "metadata": {},
   "outputs": [],
   "source": []
  }
 ],
 "metadata": {
  "kernelspec": {
   "display_name": "PythonData",
   "language": "python",
   "name": "pythondata"
  },
  "language_info": {
   "codemirror_mode": {
    "name": "ipython",
    "version": 3
   },
   "file_extension": ".py",
   "mimetype": "text/x-python",
   "name": "python",
   "nbconvert_exporter": "python",
   "pygments_lexer": "ipython3",
   "version": "3.6.9"
  }
 },
 "nbformat": 4,
 "nbformat_minor": 2
}
